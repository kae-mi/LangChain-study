{
 "cells": [
  {
   "cell_type": "markdown",
   "metadata": {},
   "source": [
    "# Review - 학습 내용 총정리\n",
    "- 예시를 들어 적용해보기\n",
    "    - 음식 이름 찾는 체인과 해당 음식의 레피시 찾는 체인을 합한 하나의 체인을 구축\n",
    "    - 총 3가지의 체인 생성"
   ]
  },
  {
   "cell_type": "code",
   "execution_count": 1,
   "metadata": {},
   "outputs": [],
   "source": [
    "from langchain_ollama import ChatOllama\n",
    "\n",
    "llm = ChatOllama(\n",
    "    model=\"llama3.2:1b\",\n",
    "    temperature=0,\n",
    "    )"
   ]
  },
  {
   "cell_type": "code",
   "execution_count": 4,
   "metadata": {},
   "outputs": [],
   "source": [
    "# 음식 이름 찾는 체인\n",
    "\n",
    "from langchain_core.output_parsers import StrOutputParser\n",
    "from langchain_core.prompts import PromptTemplate\n",
    "\n",
    "food_prompt = PromptTemplate(\n",
    "    template = \"\"\"What is one of the most famous food in {country}?\n",
    "    Please return the name of the food only\"\"\",\n",
    "    input_variables=['country']\n",
    ")\n",
    "\n",
    "food_chain = food_prompt | llm | StrOutputParser()"
   ]
  },
  {
   "cell_type": "code",
   "execution_count": null,
   "metadata": {},
   "outputs": [
    {
     "data": {
      "text/plain": [
       "'Bibimbap.'"
      ]
     },
     "execution_count": 5,
     "metadata": {},
     "output_type": "execute_result"
    }
   ],
   "source": [
    "food_chain.invoke({'country': 'South Korea'})"
   ]
  },
  {
   "cell_type": "code",
   "execution_count": 11,
   "metadata": {},
   "outputs": [],
   "source": [
    "# 레피시 찾는 체인\n",
    "\n",
    "from langchain_core.prompts import ChatPromptTemplate\n",
    "\n",
    "recipe_prompt = ChatPromptTemplate([\n",
    "    ('''system', 'Provide the recipe of the food that the user wants. \n",
    "     Please return the recipe only as a numbered list.'''),\n",
    "    ('human', 'Can you give me the recipe for making {food}?'),\n",
    "]\n",
    ")\n",
    "\n",
    "recipe_chain = recipe_prompt | llm | StrOutputParser()"
   ]
  },
  {
   "cell_type": "code",
   "execution_count": 12,
   "metadata": {},
   "outputs": [
    {
     "data": {
      "text/plain": [
       "\"Here's a simple recipe for Bibimbap:\\n\\n1. Cook the rice according to package instructions.\\n2. Prepare the vegetables: chop 1 cup of bean sprouts, 1 cup of shredded zucchini, and 1/2 cup of diced carrots.\\n3. Grill or sauté 1 cup of mixed mushrooms (such as shiitake and button) until tender.\\n4. Cook 1 cup of spinach leaves quickly in a pan with 1 tablespoon of sesame oil.\\n5. Prepare the fried egg: crack an egg into a non-stick pan coated with 1 teaspoon of vegetable oil, and cook until the whites are set and the yolks are cooked to your desired doneness.\\n6. Assemble the Bibimbap:\\n   - Place a scoop of cooked rice in a bowl.\\n   - Arrange the vegetables on top of the rice.\\n   - Add the grilled mushrooms and spinach leaves.\\n   - Place the fried egg on top.\\n7. Drizzle with 1 tablespoon of soy sauce, 1 tablespoon of Gochujang (Korean chili paste), and 1 teaspoon of sesame oil.\\n\\nNote: Traditionally, Bibimbap is topped with a variety of ingredients, including kimchi, but you can customize to your liking!\""
      ]
     },
     "execution_count": 12,
     "metadata": {},
     "output_type": "execute_result"
    }
   ],
   "source": [
    "recipe_chain.invoke({'food': 'Bibimbap'})"
   ]
  },
  {
   "cell_type": "code",
   "execution_count": 13,
   "metadata": {},
   "outputs": [],
   "source": [
    "# food_chain, recipe_chain 두 체인 연결시키기\n",
    "\n",
    "final_chain = {'food': food_chain} | recipe_chain"
   ]
  },
  {
   "cell_type": "code",
   "execution_count": 15,
   "metadata": {},
   "outputs": [
    {
     "data": {
      "text/plain": [
       "\"Here's a classic recipe for croissants:\\n\\n**Laminating the Dough**\\n\\n1. In a large mixing bowl, combine 1 1/2 cups warm milk (around 105°F to 115°F) and 1/4 cup granulated sugar. Stir in 1 teaspoon active dry yeast.\\n2. Let the mixture sit for 5-10 minutes, or until it becomes frothy.\\n\\n**Making the Dough**\\n\\n3. Add 3 1/2 cups all-purpose flour, 1 teaspoon salt, and 1/4 cup unsalted butter, softened, to the bowl. Mix until a shaggy dough forms.\\n4. Gradually add the yeast mixture, then mix until the dough comes together in a ball.\\n5. Knead the dough on a floured surface for 10-12 minutes, or until it becomes smooth and elastic.\\n\\n**Rolling Out the Dough**\\n\\n6. Roll out the dough to a rectangle about 1/4-inch thick.\\n7. Fold the rectangle in half lengthwise, like a letter.\\n8. Rotate the dough 90 degrees, so the folded edge is facing you.\\n9. Roll out the dough to a rectangle about 1/4-inch thick again.\\n\\n**Laminating the Dough**\\n\\n10. Repeat steps 6-9 two more times, for a total of three laminations.\\n11. After the third lamination, roll out the dough to a rectangle about 1/4-inch thick.\\n\\n**Cutting and Filling the Croissants**\\n\\n12. Cut the dough into long, thin triangles.\\n13. Roll each triangle into a croissant shape, starting from one of the wide ends.\\n14. Place the croissants on a parchment-lined baking sheet, leaving about 1 inch of space between each.\\n\\n**Baking and Cooling**\\n\\n15. Bake the croissants in a preheated oven at 400°F (200°C) for 15-20 minutes, or until golden brown.\\n16. Allow the croissants to cool on a wire rack for at least 30 minutes before serving.\\n\\nNote: This is just one way to make croissants, and there are many variations and techniques used in different recipes.\""
      ]
     },
     "execution_count": 15,
     "metadata": {},
     "output_type": "execute_result"
    }
   ],
   "source": [
    "final_chain.invoke({'country': 'France'})"
   ]
  }
 ],
 "metadata": {
  "kernelspec": {
   "display_name": "langchain-study",
   "language": "python",
   "name": "python3"
  },
  "language_info": {
   "codemirror_mode": {
    "name": "ipython",
    "version": 3
   },
   "file_extension": ".py",
   "mimetype": "text/x-python",
   "name": "python",
   "nbconvert_exporter": "python",
   "pygments_lexer": "ipython3",
   "version": "3.12.4"
  }
 },
 "nbformat": 4,
 "nbformat_minor": 2
}
